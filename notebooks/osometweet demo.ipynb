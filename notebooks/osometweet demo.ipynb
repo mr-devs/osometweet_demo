{
 "cells": [
  {
   "cell_type": "markdown",
   "metadata": {},
   "source": [
    "# `osometweet` crash course\n",
    "\n",
    "- Author: Matthew R. DeVerna (🐥= [`@mdeverna2`](https://twitter.com/mdeverna2))\n",
    "- Date: September 3rd, 2021\n",
    "\n",
    "---\n",
    "\n",
    "## Important Stuff\n",
    "\n",
    "- [**GitHub source code**](https://github.com/osome-iu/osometweet)\n",
    "- [**GitHub wiki**](https://github.com/osome-iu/osometweet/wiki)\n",
    "- [**Example code**](https://github.com/osome-iu/osometweet/tree/master/examples)\n",
    "\n",
    "---\n",
    "\n",
    "## Crash Course Contents\n",
    "\n",
    "#### General\n",
    "\n",
    "- [Installation](#installation)\n",
    "- [Quick start](#quick-start)\n",
    "- [Authorization](#authorization)\n",
    "  - [OAuth1a (user-context)](#oauth1a)\n",
    "  - [OAuth2 (app-context aka w. bearer token)](#oauth2)\n",
    "\n",
    "#### [Endpoints](#endpoints)\n",
    "\n",
    "- [Tweet Lookup](#tweet-lookup)\n",
    "- [User Lookup](#user-lookup)\n",
    "  - [With user IDs](#with-ids)\n",
    "  - [With usernames](#with-usernames)\n",
    "- [Timelines](#timelines)\n",
    "  - [User](#user-timeline)\n",
    "  - [Mentions](#mentions-timeline)\n",
    "  - [Specify the number of tweets returned](#num-tweets-returned)\n",
    "  - [Pagination](#pagination)\n",
    "- [Follows](#follows)\n",
    "  - [Following](#following)\n",
    "  - [Followers](#followers)\n",
    "  - [Specify the number of accounts returned](#num-results-returned)\n",
    "  - [Pagination](#pagination2)\n",
    "- [Streaming](#streaming)\n",
    "  - [Filtered streaming](#filtered-streaming)\n",
    "      - [Adding filter rules](#adding-filter-rules)\n",
    "      - [Retrieving filter rules](#retrieving-filter-rules)\n",
    "      - [Connecting to the filtered stream endpoint](#connecting-to-the-filtered-stream-endpoint)\n",
    "      - [Deleting filter rules](#deleting-filter-rules)\n",
    "  - [Sampled streaming](#sampled-streaming)\n",
    "- [Search]()\n",
    "  - [Recent search](#recent-search)\n",
    "  - [Full archive search](#full-archive-search)\n",
    "\n",
    "#### [Fields and Expansions](#fields-and-expansions)\n",
    "- [Give me everything](#give-me-everything)\n",
    "- [All from one field](#all-one-field)\n",
    "- [Specific fields](#specific-fields)\n",
    "- [More on fields](#more-on-fields)\n",
    "\n",
    "#### [Utility Functions](#utility-functions)\n",
    "- [`pause_until`](#pause-until)\n",
    "- [`chunker`](#chunker)\n",
    "- [`convert_date_to_iso`](#convert-date)\n",
    "\n",
    "#### [Wrangle Functions](#wrangle-functions)\n",
    "- [`flatten_dict`](#flatten-dict)\n",
    "- [`get_dict_val`](#get-dict-val)\n",
    "- [`get_dict_paths`](#get-dict-paths)\n",
    "\n",
    "---\n"
   ]
  },
  {
   "cell_type": "markdown",
   "metadata": {},
   "source": [
    "<a id=installation></a>\n",
    "\n",
    "## Installation"
   ]
  },
  {
   "cell_type": "code",
   "execution_count": null,
   "metadata": {},
   "outputs": [],
   "source": [
    "# From your Jupyter notebook\n",
    "!pip install osometweet\n",
    "\n",
    "# From the command line\n",
    "# pip install osometweet"
   ]
  },
  {
   "cell_type": "markdown",
   "metadata": {},
   "source": [
    "<a id=quick-start></a>\n",
    "\n",
    "## Quick start"
   ]
  },
  {
   "cell_type": "code",
   "execution_count": null,
   "metadata": {},
   "outputs": [],
   "source": [
    "import osometweet\n",
    "import os\n",
    "\n",
    "# Initialize the OSoMeTweet object\n",
    "# bearer_token = \"YOUR_TWITTER_BEARER_TOKEN\"\n",
    "bearer_token = os.environ.get(\"TWITTER_BEARER_TOKEN\")\n",
    "\n",
    "oauth2 = osometweet.OAuth2(bearer_token=bearer_token)\n",
    "ot = osometweet.OsomeTweet(oauth2)\n",
    "\n",
    "# Set some test IDs (these are Twitter's own accounts)\n",
    "ids2find = [\"2244994945\", \"6253282\"]\n",
    "\n",
    "# Call the function with these ids as input\n",
    "response = ot.user_lookup_ids(user_ids=ids2find)\n",
    "print(response[\"data\"])\n"
   ]
  },
  {
   "cell_type": "markdown",
   "metadata": {},
   "source": [
    "<a id=authorization></a>\n",
    "\n",
    "## Authorization\n",
    "\n",
    "<a id=oauth1a></a>\n",
    "\n",
    "### OAuth1a (user-context)"
   ]
  },
  {
   "cell_type": "code",
   "execution_count": null,
   "metadata": {},
   "outputs": [],
   "source": [
    "import osometweet\n",
    "\n",
    "api_key = os.environ.get(\"TWITTER_API_KEY\")\n",
    "api_key_secret = os.environ.get(\"TWITTER_API_KEY_SECRET\")\n",
    "access_token = os.environ.get(\"TWITTER_ACCESS_TOKEN\")\n",
    "access_token_secret = os.environ.get(\"TWITTER_ACCESS_TOKEN_SECRET\")\n",
    "\n",
    "oauth1a = osometweet.OAuth1a(\n",
    "    api_key=api_key,\n",
    "    api_key_secret=api_key_secret,\n",
    "    access_token=access_token,\n",
    "    access_token_secret=access_token_secret\n",
    ")\n",
    "oauth1a"
   ]
  },
  {
   "cell_type": "markdown",
   "metadata": {},
   "source": [
    "<a id=oauth2></a>\n",
    "\n",
    "### OAuth2 (app-context aka w. bearer token)"
   ]
  },
  {
   "cell_type": "code",
   "execution_count": null,
   "metadata": {},
   "outputs": [],
   "source": [
    "bearer_token = os.environ.get(\"TWITTER_BEARER_TOKEN\")\n",
    "oauth2 = osometweet.OAuth2(\n",
    "    bearer_token=bearer_token,\n",
    "    manage_rate_limits=True\n",
    ")\n",
    "oauth2"
   ]
  },
  {
   "cell_type": "code",
   "execution_count": null,
   "metadata": {},
   "outputs": [],
   "source": [
    "oauth2._manage_rate_limits"
   ]
  },
  {
   "cell_type": "markdown",
   "metadata": {},
   "source": [
    "---\n",
    "<a id=endpoints></a>\n",
    "# Endpoints\n",
    "\n",
    "<a id=tweet-lookup></a>\n",
    "\n",
    "## Tweet Lookup"
   ]
  },
  {
   "cell_type": "code",
   "execution_count": null,
   "metadata": {},
   "outputs": [],
   "source": [
    "tweet_ids = ['1323314485705297926', '1328838299419627525']\n",
    "\n",
    "# Fetch the tweets information\n",
    "response = ot.tweet_lookup(tweet_ids)\n",
    "print(response[\"data\"])\n"
   ]
  },
  {
   "cell_type": "markdown",
   "metadata": {},
   "source": [
    "<a id=user-lookup></a>\n",
    "\n",
    "## User Lookup\n",
    "\n",
    "<a id=with-ids></a>\n",
    "\n",
    "## with ids"
   ]
  },
  {
   "cell_type": "code",
   "execution_count": null,
   "metadata": {},
   "outputs": [],
   "source": [
    "# Set some test IDs (these are Twitter's own accounts)\n",
    "ids2find = [\"2244994945\", \"6253282\"]\n",
    "\n",
    "# Call the function with these ids\n",
    "response = ot.user_lookup_ids(ids2find)\n",
    "print(response[\"data\"])\n"
   ]
  },
  {
   "cell_type": "markdown",
   "metadata": {},
   "source": [
    "<a id=with-usernames></a>\n",
    "\n",
    "## with usernames"
   ]
  },
  {
   "cell_type": "code",
   "execution_count": null,
   "metadata": {},
   "outputs": [],
   "source": [
    "# Set some test IDs (these are Twitter's own accounts)\n",
    "usernames2find = [\"TwitterDev\", \"TwitterAPI\"]\n",
    "\n",
    "# Call the function with these ids\n",
    "response = ot.user_lookup_usernames(usernames2find)\n",
    "print(response[\"data\"])\n"
   ]
  },
  {
   "cell_type": "markdown",
   "metadata": {},
   "source": [
    "<a id=timelines></a>\n",
    "\n",
    "## Timelines\n",
    "\n",
    "<a id=user-timeline></a>\n",
    "\n",
    "### User\n",
    "\n",
    "We call the function to get `@jack`'s (jack dorsey's) 10 most recent tweets\n",
    "\n",
    "The endpoint only supports user id, so we pass the id of @jack to the method"
   ]
  },
  {
   "cell_type": "code",
   "execution_count": null,
   "metadata": {},
   "outputs": [],
   "source": [
    "response = ot.get_tweet_timeline('12')\n",
    "response[\"data\"]"
   ]
  },
  {
   "cell_type": "markdown",
   "metadata": {},
   "source": [
    "<a id=mentions-timeline></a>\n",
    "\n",
    "### Mentions"
   ]
  },
  {
   "cell_type": "code",
   "execution_count": null,
   "metadata": {
    "scrolled": false
   },
   "outputs": [],
   "source": [
    "response = ot.get_mentions_timeline('12')\n",
    "response[\"data\"]"
   ]
  },
  {
   "cell_type": "markdown",
   "metadata": {},
   "source": [
    "<a id=num-tweets-returned></a>\n",
    "\n",
    "### Specifying the number of tweets returned\n",
    "\n",
    "Often we need much more data than Twitter returns in one request. We can request up to 100 tweets at a time using the `max_results` parameter. This has large implications with respect to query limits (i.e. how many tweets you can get with the same number of requests). Here is an example:\n",
    "\n",
    "Call the function to get `jack`'s 100 most recent followers"
   ]
  },
  {
   "cell_type": "code",
   "execution_count": null,
   "metadata": {},
   "outputs": [],
   "source": [
    "response = ot.get_tweet_timeline('12', max_results=100)"
   ]
  },
  {
   "cell_type": "code",
   "execution_count": null,
   "metadata": {
    "scrolled": true
   },
   "outputs": [],
   "source": [
    "print(f\"Now we have {len(response['data'])} tweets.\")\n",
    "print(\"~~~~~~~~~~~~~~~~~~~~~~\")\n",
    "response[\"data\"]"
   ]
  },
  {
   "cell_type": "markdown",
   "metadata": {},
   "source": [
    "<a id=pagination></a>\n",
    "\n",
    "### Pagination\n",
    "\n",
    "For each user ID, Twitter allows you to request up to 3,200 of the most recent tweets, and up to 800 of the most recent tweets mentioning a user. Since you can only request (at most) 100 tweets at a time, you will need to utilize the pagination_token returned in the meta-data of the response. For example, to get the 200 most recent tweets you can do the following..."
   ]
  },
  {
   "cell_type": "code",
   "execution_count": null,
   "metadata": {},
   "outputs": [],
   "source": [
    "response = ot.get_tweet_timeline('12', max_results=100)\n",
    "response.keys()"
   ]
  },
  {
   "cell_type": "code",
   "execution_count": null,
   "metadata": {},
   "outputs": [],
   "source": [
    "response[\"meta\"]"
   ]
  },
  {
   "cell_type": "code",
   "execution_count": null,
   "metadata": {},
   "outputs": [],
   "source": [
    "response_2 = ot.get_tweet_timeline(\n",
    "    '12',\n",
    "    pagination_token=response['meta']['next_token'],\n",
    "    max_results = 100\n",
    ")\n",
    "response_2[\"meta\"]"
   ]
  },
  {
   "cell_type": "code",
   "execution_count": null,
   "metadata": {},
   "outputs": [],
   "source": [
    "response_2[\"data\"]"
   ]
  },
  {
   "cell_type": "markdown",
   "metadata": {},
   "source": [
    "<a id=follows></a>\n",
    "## Follows\n",
    "\n",
    "<a id=followers></a>\n",
    "### Followers"
   ]
  },
  {
   "cell_type": "code",
   "execution_count": null,
   "metadata": {
    "scrolled": true
   },
   "outputs": [],
   "source": [
    "# Call the function to get \"jack\"'s 100 most recent followers\n",
    "# The endpoint only supports user id, we pass the id of @jack to the method\n",
    "response = ot.get_followers('12')\n",
    "response[\"data\"]"
   ]
  },
  {
   "cell_type": "markdown",
   "metadata": {},
   "source": [
    "<a id=following></a>\n",
    "### Following"
   ]
  },
  {
   "cell_type": "code",
   "execution_count": null,
   "metadata": {},
   "outputs": [],
   "source": [
    "# Call the function to get the 100 most recent accounts that jack followed\n",
    "response = ot.get_following('12')\n",
    "response[\"data\"]"
   ]
  },
  {
   "cell_type": "markdown",
   "metadata": {},
   "source": [
    "<a id=num-results-returned></a>\n",
    "### Specifiy the number of results\n",
    "\n",
    "Up to 1000!"
   ]
  },
  {
   "cell_type": "code",
   "execution_count": null,
   "metadata": {},
   "outputs": [],
   "source": [
    "# Call the function to get \"jack\"'s 1000 most recent followers\n",
    "response = ot.get_followers('12', max_results=1000)"
   ]
  },
  {
   "cell_type": "code",
   "execution_count": null,
   "metadata": {},
   "outputs": [],
   "source": [
    "response[\"meta\"]"
   ]
  },
  {
   "cell_type": "code",
   "execution_count": null,
   "metadata": {},
   "outputs": [],
   "source": [
    "print(f\"Now we have {len(response['data'])} accounts.\")\n",
    "print(\"~~~~~~~~~~~~~~~~~~~~~~\")\n",
    "response[\"data\"]"
   ]
  },
  {
   "cell_type": "markdown",
   "metadata": {},
   "source": [
    "<a id=pagination2></a>\n",
    "### Pagination"
   ]
  },
  {
   "cell_type": "code",
   "execution_count": null,
   "metadata": {},
   "outputs": [],
   "source": [
    "# Call the function to get \"jack\"'s 1,000 most recent followers\n",
    "response = ot.get_followers('12', max_results = 1000)\n",
    "response.keys()"
   ]
  },
  {
   "cell_type": "code",
   "execution_count": null,
   "metadata": {},
   "outputs": [],
   "source": [
    "response[\"meta\"]"
   ]
  },
  {
   "cell_type": "code",
   "execution_count": null,
   "metadata": {},
   "outputs": [],
   "source": [
    "# Call the function again to get another 1,000 followers:\n",
    "response_2 = ot.get_followers(\n",
    "    '12',\n",
    "    pagination_token=response['meta']['next_token'], \n",
    "    max_results = 1000\n",
    ")\n",
    "response_2[\"meta\"]"
   ]
  },
  {
   "cell_type": "markdown",
   "metadata": {},
   "source": [
    "---\n",
    "<a id=streaming></a>\n",
    "## Streaming"
   ]
  },
  {
   "cell_type": "markdown",
   "metadata": {},
   "source": [
    "Twitter offers two different **streaming endpoints** to gather tweets in real-time:\n",
    "1. [Filtered stream](https://developer.twitter.com/en/docs/twitter-api/tweets/filtered-stream/introduction) : The filtered stream endpoint enables developers to filter the real-time stream of public Tweets. \n",
    "    * There are also filtered stream endpoints that enable you to create and manage matching rules, and apply those rules to filter a stream of real-time Tweets that will return matching public Tweets. For example, you can request all tweets which include the word \"politics\" or some other string.\n",
    "2. [Sampled stream](https://developer.twitter.com/en/docs/twitter-api/tweets/sampled-stream/introduction) : The sampled stream endpoint delivers a roughly 1% random sample of publicly available Tweets in real-time.\n",
    "\n",
    "> Note: The streaming endpoints cannot be used with the Rate Limit Manager tool. Thus, during authorization the `manage_rate_limits` parameter must be set to `False`. See [Adding filter rules](#adding-filter-rules) for an example.\n",
    "\n",
    "### Contents\n",
    "- [Filtered streaming](#filtered-streaming)\n",
    "  - [Adding filter rules](#adding-filter-rules)\n",
    "  - [Retrieving filter rules](#retrieving-filter-rules)\n",
    "  - [Connecting to the filtered stream endpoint](#connecting-to-the-filtered-stream-endpoint)\n",
    "  - [Deleting filter rules](#deleting-filter-rules)\n",
    "- [Sampled streaming](#sampled-streaming)\n",
    "    - [Connecting to the filtered stream endpoint](#connecting-to-the-filtered-stream-endpoint)\n",
    "\n",
    "<a id=filtered-streaming></a>\n",
    "## Filtered streaming\n",
    "\n",
    "There are three different `osometweet` methods that will help you stream real-time filtered public tweets.\n",
    "\n",
    "|Type|`osometweet` method| Purpose | Twitter endpoint|\n",
    "|----|-------------------|---------|-----------------|\n",
    "|Streaming|`filtered_stream`|Connect to the stream| `GET /2/tweets/search/stream` |\n",
    "|Management|`set_filtered_stream_rule`|Add or delete rules from your stream| `POST /2/tweets/search/stream/rules` |\n",
    "|Management|`get_filtered_stream_rule`|Retrieve your stream's rules| `GET /2/tweets/search/stream/rules` |\n",
    "\n",
    "To utilize the `filtered_stream` endpoint, we must first understand how to manage the _matching rules_. Matching rules are the criteria we provide to Twitter to tell them what we want them to give us.\n",
    "\n",
    "For example, if we wanted only tweets that contain specific keywords - for example, \"coronavirus\" or \"indiana\" - we would need to create matching rules that tells Twitter to do exactly that. Here is what that looks like.\n",
    "\n",
    "<a id=adding-filter-rules></a>\n",
    "### Adding filter rules\n",
    "\n",
    "To add filter rules, we use the `set_filtered_stream_rule` method."
   ]
  },
  {
   "cell_type": "code",
   "execution_count": null,
   "metadata": {},
   "outputs": [],
   "source": [
    "oauth2 = osometweet.OAuth2(\n",
    "    bearer_token=bearer_token,\n",
    "    manage_rate_limits=False    # <~~~ Must be set to False!!\n",
    ")\n",
    "ot = osometweet.OsomeTweet(oauth2)\n",
    "\n",
    "# Add streaming rules\n",
    "rules = [{\"value\": \"coronavirus\", \"tag\": \"all coronavirus tweets\"},\n",
    "         {\"value\": \"indiana\", \"tag\": \"all indiana tweets\"}]\n",
    "add_rules = {\"add\": rules}\n",
    "\n",
    "response = ot.set_filtered_stream_rule(rules=add_rules) #<~~~ Where the magic happens!\n",
    "\n",
    "print(\"API response from adding two rules:\\n\")\n",
    "response"
   ]
  },
  {
   "cell_type": "markdown",
   "metadata": {},
   "source": [
    "#### Understand adding filter rules\n",
    "We highly recommend you check out Twitter's [own documentation](https://developer.twitter.com/en/docs/twitter-api/tweets/filtered-stream/integrate/build-a-rule) on how to build a rule. Also, see [Building High Quality Filters](https://developer.twitter.com/en/docs/tutorials/building-high-quality-filters) for a more in depth review.\n",
    "\n",
    "Nonetheless, we provide a basic explanation of how adding rules works and their structure to get you up and running.\n",
    "\n",
    "Rules are added based on a list of dictionaries with the keys: `value` and `tag`. Each dictionary in that list makes up one rule where the keys represent the below...\n",
    "\n",
    "- `value` : The matching criteria\n",
    "    - Twitter returns tweets that match this value's input. See the links above to learn about the different ways to match tweets.\n",
    "- `tag` : A label for the matching rule in that dictionary\n",
    "    - This doesn't affect the actual tweets that are returned, however, if you have many rules, creating simple tags can be helpful should you want to find and delete specific rules (see [Deleting filter rules](#deleting-filter-rules) for more information on this).\n",
    "\n",
    "So the endpoint takes in something like the below (which you can see we created above in the [Adding filter rules](#adding-filter-rules) section).\n",
    "\n",
    "```python\n",
    "{'add': [\n",
    "    {'value': 'coronavirus', 'tag': 'all coronavirus tweets'},\n",
    "    {'value': 'indiana', 'tag': 'all indiana tweets'}\n",
    "]}\n",
    "```\n",
    "\n",
    "The top-level key `add` tells Twitter that we are adding rules and feeds the list as input of what to add.\n",
    "\n",
    "<a id=retrieving-filter-rules></a>\n",
    "### Retrieving filter rules\n",
    "\n",
    "Now, if we wanted to check that the rules added during the [Adding filter rules](#adding-filter-rules) section are actually there, we can use the `get_filtered_stream_rule` method.\n",
    "\n",
    "We can do this like so..."
   ]
  },
  {
   "cell_type": "code",
   "execution_count": null,
   "metadata": {},
   "outputs": [],
   "source": [
    "current_rules = ot.get_filtered_stream_rule()\n",
    "print(\"API response when retrieving current rules:\\n\")\n",
    "current_rules\n"
   ]
  },
  {
   "cell_type": "markdown",
   "metadata": {},
   "source": [
    "We can see here, that our rules are included under the `data` key. The `value` and `tag` keys are included exactly as we passed them and each rule also includes a unique identifier key `id`.\n",
    "\n",
    "> Note, these ids will be unique each time you create these rules - i.e., that is if you add the rule which matches \"coronavirus\", it will create a unique value for `id`. If you then delete all of your rules and recreate that exact same rule, the value for `id` will not be the same.\n",
    "\n",
    "<a id=connecting-to-the-filtered-stream-endpoint></a>\n",
    "### Connecting to the filtered stream endpoint\n",
    "\n",
    "Now that we have successfully added some matching rules, and we are confident they are there, we can connect to the streaming endpoint and begin gathering tweets. Here is how we do that..."
   ]
  },
  {
   "cell_type": "code",
   "execution_count": null,
   "metadata": {},
   "outputs": [],
   "source": [
    "import json\n",
    "\n",
    "# Returns a generator\n",
    "stream = ot.filtered_stream()\n",
    "\n",
    "# Because we have a generator, we iterate over each tweet\n",
    "num_tweets = 0\n",
    "for tweet in stream.iter_lines():\n",
    "\n",
    "    # Then, we read the json `tweet` object as a dictionary and select the `data`\n",
    "    # Note: if it's not there for some reason, this line returns `None`...\n",
    "    data = json.loads(tweet).get(\"data\")\n",
    "\n",
    "    # ... but if we do find data, we can then print each tweet\n",
    "    if data:\n",
    "        print(data)\n",
    "        num_tweets +=1\n",
    "    \n",
    "    # Break after receiving 10 tweets\n",
    "    if num_tweets > 10:\n",
    "        break"
   ]
  },
  {
   "cell_type": "markdown",
   "metadata": {},
   "source": [
    "<a id=deleting-filter-rules></a>\n",
    "### Deleting filter rules\n",
    "\n",
    "To delete filter rules, we use the `set_filtered_stream_rule` method again.\n",
    "\n",
    "To delete rules, we need to provide a list of the `id`'s for each rule that we'd like to delete. So if we have a `current_rules` object that represents the above dictionary, we can collect all of the tweet ids into a list with the below line."
   ]
  },
  {
   "cell_type": "code",
   "execution_count": null,
   "metadata": {},
   "outputs": [],
   "source": [
    "current_rules = ot.get_filtered_stream_rule()\n",
    "current_rules"
   ]
  },
  {
   "cell_type": "code",
   "execution_count": null,
   "metadata": {},
   "outputs": [],
   "source": [
    "all_rule_ids = [rule[\"id\"] for rule in current_rules[\"data\"]]\n",
    "all_rule_ids"
   ]
  },
  {
   "cell_type": "code",
   "execution_count": null,
   "metadata": {},
   "outputs": [],
   "source": [
    "delete_rule = {'delete': {'ids':all_rule_ids}}\n",
    "ot.set_filtered_stream_rule(rules=delete_rule)"
   ]
  },
  {
   "cell_type": "markdown",
   "metadata": {},
   "source": [
    "Notice that we needed to embed the list of ids inside of a dictionary prior to passing it to the method. Just like adding filter rules, the first key of this dictionary tells Twitter what action it should be doing - i.e., `delete` tells Twitter to remove rules, based on the list of `ids` provided.\n",
    "\n",
    "<a id=sampled-streaming></a>\n",
    "## Sampled streaming\n",
    "\n",
    "We can access the sampled streaming endpoint with the `sampled_stream` method.\n",
    "\n",
    "<a id=connecting-to-the-sampled-stream-endpoint></a>\n",
    "### Connecting to the sampled stream endpoint\n",
    "\n",
    "As this endpoint doesn't take any matching criteria and simply returns a general 1% sample, there is much less to think about and we can begin collecting tweets from the sampled stream in the following way..."
   ]
  },
  {
   "cell_type": "code",
   "execution_count": null,
   "metadata": {},
   "outputs": [],
   "source": [
    "# Returns a generator\n",
    "stream = ot.sampled_stream()\n",
    "\n",
    "# Because we have a generator, we iterate over each tweet\n",
    "num_tweets = 0\n",
    "for tweet in stream.iter_lines():\n",
    "    \n",
    "    # Then, we read the json `tweet` object as a dictionary and select the `data`\n",
    "    # Note: if it's not there for some reason, this line returns `None`...\n",
    "    data = json.loads(tweet).get(\"data\")\n",
    "\n",
    "    # ... but if we do find data, we can then print each tweet\n",
    "    if data:\n",
    "        print(data)\n",
    "        num_tweets += 1\n",
    "        \n",
    "    # Break after receiving 10 tweets\n",
    "    if num_tweets > 10:\n",
    "        break"
   ]
  },
  {
   "cell_type": "markdown",
   "metadata": {},
   "source": [
    "<a id=search></a>\n",
    "## Search\n",
    "\n",
    "<a id=recent-search></a>\n",
    "### Recent search"
   ]
  },
  {
   "cell_type": "code",
   "execution_count": null,
   "metadata": {
    "scrolled": true
   },
   "outputs": [],
   "source": [
    "ot.search(query=\"grumpy cat\")"
   ]
  },
  {
   "cell_type": "code",
   "execution_count": null,
   "metadata": {
    "scrolled": true
   },
   "outputs": [],
   "source": [
    "help(ot.search)"
   ]
  },
  {
   "cell_type": "markdown",
   "metadata": {},
   "source": [
    "<a id=full-archive-search></a>\n",
    "### Full archive search"
   ]
  },
  {
   "cell_type": "code",
   "execution_count": null,
   "metadata": {},
   "outputs": [],
   "source": [
    "from osometweet.utils import convert_date_to_iso\n",
    "\n",
    "start = convert_date_to_iso(\"2020-01-01\")\n",
    "end = convert_date_to_iso(\"2020-02-01\")\n",
    "\n",
    "print(start)"
   ]
  },
  {
   "cell_type": "code",
   "execution_count": null,
   "metadata": {
    "scrolled": true
   },
   "outputs": [],
   "source": [
    "response = ot.search(\n",
    "    query=\"grumpy cat\",\n",
    "    start_time=start,\n",
    "    end_time=end,\n",
    "    full_archive_search=True,\n",
    "    max_results=10,\n",
    "    everything=True\n",
    ")\n",
    "response"
   ]
  },
  {
   "cell_type": "code",
   "execution_count": null,
   "metadata": {},
   "outputs": [],
   "source": [
    "response.keys()"
   ]
  },
  {
   "cell_type": "code",
   "execution_count": null,
   "metadata": {
    "scrolled": true
   },
   "outputs": [],
   "source": [
    "response[\"includes\"]"
   ]
  },
  {
   "cell_type": "code",
   "execution_count": null,
   "metadata": {},
   "outputs": [],
   "source": [
    "response[\"errors\"]"
   ]
  },
  {
   "cell_type": "code",
   "execution_count": null,
   "metadata": {},
   "outputs": [],
   "source": [
    "response[\"meta\"]"
   ]
  },
  {
   "cell_type": "markdown",
   "metadata": {},
   "source": [
    "<a id=fields-and-expansions></a>\n",
    "## Fields and expansions\n",
    "<a id=give-me-everything></a>\n",
    "### Give me everything\n",
    "\n",
    "If you want all the data fields that Twitter has to offer, follow the example below."
   ]
  },
  {
   "cell_type": "code",
   "execution_count": null,
   "metadata": {
    "scrolled": true
   },
   "outputs": [],
   "source": [
    "# make request\n",
    "ot.tweet_lookup('1348419350370398209', everything=True)"
   ]
  },
  {
   "cell_type": "markdown",
   "metadata": {},
   "source": [
    "`everything=True` works for all `osometweet` endpoints"
   ]
  },
  {
   "cell_type": "code",
   "execution_count": null,
   "metadata": {
    "scrolled": false
   },
   "outputs": [],
   "source": [
    "ot.user_lookup_usernames([\"mdeverna2\"], everything=True)"
   ]
  },
  {
   "cell_type": "markdown",
   "metadata": {},
   "source": [
    "<a id=all-one-field></a>\n",
    "### Get all from a specific field\n",
    "You can also retrieve all elements from specific object fields. The available object fields are:\n",
    "- `UserFields`\n",
    "- `TweetFields`\n",
    "- `MediaFields`\n",
    "- `PlaceFields`\n",
    "- `PollFields`"
   ]
  },
  {
   "cell_type": "code",
   "execution_count": null,
   "metadata": {},
   "outputs": [],
   "source": [
    "import osometweet.fields as o_fields\n",
    "\n",
    "all_user_fields = o_fields.UserFields(everything=True)\n",
    "print(\"User fields:\", all_user_fields)\n",
    "\n",
    "ot.user_lookup_usernames(['mdeverna2'], fields=all_user_fields)"
   ]
  },
  {
   "cell_type": "code",
   "execution_count": null,
   "metadata": {},
   "outputs": [],
   "source": [
    "all_tweet_fields = o_fields.TweetFields(everything=True)\n",
    "print(\"Tweet fields:\",all_tweet_fields)\n",
    "\n",
    "ot.tweet_lookup('1348419350370398209', fields=all_tweet_fields)"
   ]
  },
  {
   "cell_type": "markdown",
   "metadata": {},
   "source": [
    "<a id=specific-fields></a>\n",
    "### Include specific fields and expansions\n",
    "\n",
    "`OSoMeTweet` provides the flexibility to specify exactly what the API should return.\n",
    "\n",
    "Let us use the `tweet_lookup` endpoint as an example.\n",
    "\n",
    "Suppose we are interested in a tweet with the unique tweet ID number, `1212092628029698048`. \n",
    "\n",
    "In addition to the default tweet data, we also want to know:\n",
    "1. When it was created (captured in the `created_at` field)\n",
    "2. How popular it was (captured in the `public_metrics` field with information like retweet counts, etc.)\n",
    "3. The author of the tweet (so we will need to _expand_ the `author_id` field)\n",
    "4. When the author created their account (so we also need to request the `created_at` field as a user field)\n",
    "\n",
    "To retrieve all of this information, we simply specify these specific tweet and user fields in our query."
   ]
  },
  {
   "cell_type": "code",
   "execution_count": null,
   "metadata": {},
   "outputs": [],
   "source": [
    "import osometweet.fields as o_fields\n",
    "import osometweet.expansions as o_expansions\n",
    "\n",
    "# Initialize the fields object\n",
    "tweet_fields = o_fields.TweetFields()\n",
    "\n",
    "# Specify the tweet fields you need\n",
    "tweet_fields.fields = ['public_metrics', 'created_at']\n",
    "\n",
    "# Initialize the expansion object\n",
    "expansions = o_expansions.TweetExpansions()\n",
    "\n",
    "# Specify the expansions you need\n",
    "expansions.expansions = [\"author_id\"]\n",
    "\n",
    "# Initialize the user fields object\n",
    "user_fields = o_fields.UserFields()\n",
    "\n",
    "# Specify the fields you need\n",
    "user_fields.fields = ['created_at']\n",
    "\n",
    "# make request\n",
    "ot.tweet_lookup(\n",
    "    tids = ['1212092628029698048'],\n",
    "    fields = tweet_fields+user_fields,\n",
    "    expansions=expansions\n",
    ")"
   ]
  },
  {
   "cell_type": "markdown",
   "metadata": {},
   "source": [
    "<a id=more-on-fields></a>\n",
    "### More on fields\n",
    "\n",
    "Twitter [supports](https://developer.twitter.com/en/docs/twitter-api/fields) fields for `user`, `tweet`, `media`, `poll`, and `place`.\n",
    "You can use `UserFields`, `TweetFields`, `MediaFields`, `PollFields`, and `PlaceFields` classes to handle them, respectively.\n",
    "They only contain the default fields if not specified otherwise.\n",
    "\n",
    "You can see what optional fields are available by"
   ]
  },
  {
   "cell_type": "code",
   "execution_count": null,
   "metadata": {},
   "outputs": [],
   "source": [
    "import osometweet.fields as o_fields\n",
    "\n",
    "tweet_fields = o_fields.TweetFields()\n",
    "tweet_fields.optional_fields"
   ]
  },
  {
   "cell_type": "code",
   "execution_count": null,
   "metadata": {},
   "outputs": [],
   "source": [
    "tweet_fields.default_fields"
   ]
  },
  {
   "cell_type": "markdown",
   "metadata": {},
   "source": [
    "You can specify the fields by"
   ]
  },
  {
   "cell_type": "code",
   "execution_count": null,
   "metadata": {},
   "outputs": [],
   "source": [
    "tweet_fields.fields = ['public_metrics', 'created_at']\n",
    "tweet_fields.fields"
   ]
  },
  {
   "cell_type": "markdown",
   "metadata": {},
   "source": [
    "You can add different fields objects up to get an object that contains all the information, and pass it to the API endpoints"
   ]
  },
  {
   "cell_type": "code",
   "execution_count": null,
   "metadata": {},
   "outputs": [],
   "source": [
    "import osometweet.fields as o_fields\n",
    "\n",
    "tweet_fields = o_fields.TweetFields()\n",
    "tweet_fields.fields = ['public_metrics', 'created_at']\n",
    "\n",
    "user_fields = o_fields.UserFields()\n",
    "user_fields.fields = ['created_at']\n",
    "\n",
    "sum_of_fields = tweet_fields + user_fields\n",
    "# OR\n",
    "# sum_of_fields = sum([tweet_fields, user_fields])\n",
    "\n",
    "print(type(sum_of_fields))\n",
    "sum_of_fields"
   ]
  },
  {
   "cell_type": "markdown",
   "metadata": {},
   "source": [
    "Note: We include the `user.fields` object here but it is not returned by Twitter because we do not include the `author_id` expansion. Always make sure to double-check your asking for the right information from Twitter!!"
   ]
  },
  {
   "cell_type": "code",
   "execution_count": null,
   "metadata": {},
   "outputs": [],
   "source": [
    "ot.tweet_lookup(\n",
    "    tids = ['1212092628029698048'],\n",
    "    fields = sum_of_fields\n",
    ")"
   ]
  },
  {
   "cell_type": "markdown",
   "metadata": {},
   "source": [
    "<a id=utility-functions></a>\n",
    "## Utility Functions\n",
    "\n",
    "We also include a few utility methods which will (hopefully) make working with the new Twitter API structure a bit easier.\n",
    "\n",
    "First, you can import the utility methods into your environment with the following code..."
   ]
  },
  {
   "cell_type": "markdown",
   "metadata": {},
   "source": [
    "<a id=pause-until></a>\n",
    "#### `o_utils.pause_until`\n",
    "Managing time is an important aspect of gathering data from Twitter and often you'd just like to wait some specified time. This is relatively easy with the `time` module, however, it is even easier with the `pause_until()` method. Simply input the time that you would like to pause your code until, and the method handles the rest. This method can take in a `datetime` object or a Unix epoch time-stamp. For example, if you'd like to wait ten seconds, you can simple do..."
   ]
  },
  {
   "cell_type": "code",
   "execution_count": null,
   "metadata": {},
   "outputs": [],
   "source": [
    "import osometweet.utils as o_utils\n",
    "import datetime as datetime\n",
    "\n",
    "# The below line of code takes the time at the current moment, converts it to an epoch time-stamp\n",
    "# and then adds five seconds to it.\n",
    "now_plus_5_with_epoch_timestamp = datetime.datetime.now().timestamp() + 5\n",
    "\n",
    "print(\"timestamp:\", now_plus_5_with_epoch_timestamp)\n",
    "\n",
    "# Then we input that into the pause_until() method and your machine will\n",
    "# sleep until that specific time, five seconds later\n",
    "print(\"Time before call:\",datetime.datetime.now())\n",
    "\n",
    "o_utils.pause_until(now_plus_5_with_epoch_timestamp)\n",
    "\n",
    "print(\"Time after call:\",datetime.datetime.now())"
   ]
  },
  {
   "cell_type": "markdown",
   "metadata": {},
   "source": [
    "If you'd like to do this with a `datetime`object, it looks like this..."
   ]
  },
  {
   "cell_type": "code",
   "execution_count": null,
   "metadata": {},
   "outputs": [],
   "source": [
    "import osometweet.utils as o_utils\n",
    "import datetime as datetime\n",
    "\n",
    "# The timedelta method takes input in the following way...\n",
    "# timedelta(days=0, seconds=0, microseconds=0, milliseconds=0, minutes=0, hours=0, weeks=0)\n",
    "now_plus_5_with_datetime_object = datetime.datetime.now() + datetime.timedelta(seconds=5)\n",
    "\n",
    "print(\"datetime object:\", now_plus_5_with_datetime_object)\n",
    "\n",
    "print(\"Time before call:\",datetime.datetime.now())\n",
    "\n",
    "o_utils.pause_until(now_plus_5_with_datetime_object)\n",
    "\n",
    "print(\"Time before call:\",datetime.datetime.now())"
   ]
  },
  {
   "cell_type": "markdown",
   "metadata": {},
   "source": [
    "<a id=chunker></a>\n",
    "#### `o_utils.chunker`\n",
    "Another reality of working with Twitter data is that you are only allowed to query Twitter with a maximum number of users/tweets/whatever per endpoint. To deal with this, we created the `o_utils.chunker` method which turns a list into a list of smaller lists where the length of those smaller lists are no longer than the user indicated size. For example..."
   ]
  },
  {
   "cell_type": "code",
   "execution_count": null,
   "metadata": {},
   "outputs": [],
   "source": [
    "from osometweet import utils as o_util\n",
    "my_list = [\"user1\", \"user2\", \"user3\", \"user4\", \"user5\", \"user6\", \"user7\", \"user8\", \"user9\"]\n",
    "chunked_list = o_util.chunker(seq=my_list, size=2)\n",
    "print(chunked_list)"
   ]
  },
  {
   "cell_type": "markdown",
   "metadata": {},
   "source": [
    "<a id=convert-date></a>\n",
    "#### `o_utils.convert_date_to_iso`\n",
    "\n",
    "Some of the endpoints require specific time strings to specify where to (for example) search for different tweets.\n",
    "\n",
    "We provide the `o_utils.convert_date_to_iso` method to make this easier..."
   ]
  },
  {
   "cell_type": "code",
   "execution_count": null,
   "metadata": {},
   "outputs": [],
   "source": [
    "from osometweet import utils as o_util\n",
    "\n",
    "o_util.convert_date_to_iso(\"2020-1-1\")"
   ]
  },
  {
   "cell_type": "markdown",
   "metadata": {},
   "source": [
    "Can also specify the `time_format` object if we want using any of the standard `datetime` formats."
   ]
  },
  {
   "cell_type": "code",
   "execution_count": null,
   "metadata": {},
   "outputs": [],
   "source": [
    "o_util.convert_date_to_iso(\"2020\", time_format=\"%Y\")"
   ]
  },
  {
   "cell_type": "code",
   "execution_count": null,
   "metadata": {},
   "outputs": [],
   "source": [
    "o_util.convert_date_to_iso(\"2020_1_1\", time_format=\"%Y_%m_%d\")"
   ]
  },
  {
   "cell_type": "markdown",
   "metadata": {},
   "source": [
    "<a id=wrangle-functions></a>\n",
    "## Wrangle functions\n",
    "\n",
    "**`osometweet.wrangle`** includes a handful of low-level data processing functions that we think could be useful when wrangling your Twitter data into something easier to analyze. The idea behind these functions was to create methods that you can easily adapt to your data processing pipeline, as opposed to creating our own that you must adopt.\n",
    "\n",
    "Below we provide simple examples of how each function works.\n",
    "\n",
    "### Contents\n",
    "- `flatten_dict`\n",
    "- `flatten_dict` and Twitter data\n",
    "- `get_dict_paths`\n",
    "- `get_dict_val`\n",
    "\n",
    "### Import\n",
    "We can import these functions via..."
   ]
  },
  {
   "cell_type": "code",
   "execution_count": null,
   "metadata": {},
   "outputs": [],
   "source": [
    "from osometweet.wrangle import get_dict_paths, get_dict_val, flatten_dict"
   ]
  },
  {
   "cell_type": "markdown",
   "metadata": {},
   "source": [
    "<a id=flatten-dict></a>\n",
    "### `flatten_dict`\n",
    "\n",
    "This function takes a nested dictionary and \"flattens\" it so that the keys of each nested dictionary are concatenated into a single string, and the value is the value at the end of that key path. This function can help you simplify the complexity of a nested dictionary (like Twitter's data objects) so it is easier to manage.\n",
    "\n",
    "Let's see what this means."
   ]
  },
  {
   "cell_type": "code",
   "execution_count": null,
   "metadata": {},
   "outputs": [],
   "source": [
    "# Create dictionary\n",
    "dictionary = {\n",
    "    \"a\" : 1,\n",
    "    \"b\" : {\n",
    "        \"c\" : 2,\n",
    "        \"d\" : 5\n",
    "    },\n",
    "    \"e\" : {\n",
    "        \"f\" : 4,\n",
    "        \"g\" : 3\n",
    "    },\n",
    "    \"h\" : 3\n",
    "}"
   ]
  },
  {
   "cell_type": "code",
   "execution_count": null,
   "metadata": {},
   "outputs": [],
   "source": [
    "dictionary"
   ]
  },
  {
   "cell_type": "markdown",
   "metadata": {},
   "source": [
    "#### 1. Using function as is"
   ]
  },
  {
   "cell_type": "code",
   "execution_count": null,
   "metadata": {},
   "outputs": [],
   "source": [
    "flat_dict = flatten_dict(dictionary)\n",
    "flat_dict"
   ]
  },
  {
   "cell_type": "code",
   "execution_count": null,
   "metadata": {},
   "outputs": [],
   "source": [
    "print(dictionary.keys())\n",
    "print(flat_dict.keys())"
   ]
  },
  {
   "cell_type": "markdown",
   "metadata": {},
   "source": [
    "#### 2. Changing `parent_key`\n",
    "This function has an available parameter called `parent_key` which helps it work. Typically, we would recommend that you do not touch this, however, here is what tinkering with this will do - should you find some use for it. 😄 "
   ]
  },
  {
   "cell_type": "code",
   "execution_count": null,
   "metadata": {},
   "outputs": [],
   "source": [
    "# Parent key will add `parent_key` as a prefix to all keys\n",
    "flatten_dict(dictionary, parent_key = \"NEW\")"
   ]
  },
  {
   "cell_type": "markdown",
   "metadata": {},
   "source": [
    "#### 3. Changing `sep`\n",
    "Another parameter, `sep`, allows you to control the string that will separate each level of the concatenated key path. As you saw above, the default is a period (i.e., '.'), however, it can be whatever you prefer."
   ]
  },
  {
   "cell_type": "code",
   "execution_count": null,
   "metadata": {},
   "outputs": [],
   "source": [
    "# This string is what will separate key path strings\n",
    "flatten_dict(dictionary, sep = \"\")\n"
   ]
  },
  {
   "cell_type": "markdown",
   "metadata": {},
   "source": [
    "🚨🚨🚨🚨\n",
    "\n",
    "### `flatten_dict` and Twitter data\n",
    "\n",
    "It is important to note that the `flatten_dict` function handles all nested _dictionaires_ but will stop when it reaches something other than a dictionary. What this means is for certain data objects which contain a _list_ as the value (e.g. urls and context_annotations), further processing will be needed.\n",
    "\n",
    "To understand what this means in more detail, I've created a [walk-through](https://github.com/osome-iu/osometweet/wiki/Method:-Wrangle-Practical-Walk-through-(flatten_dict)) of one way you might process a couple of tweets using this function while keeping the above in mind.\n",
    "\n",
    "🚨🚨🚨🚨"
   ]
  },
  {
   "cell_type": "code",
   "execution_count": null,
   "metadata": {},
   "outputs": [],
   "source": [
    "response = ot.user_lookup_usernames([\"mdeverna2\"], everything=True)"
   ]
  },
  {
   "cell_type": "code",
   "execution_count": null,
   "metadata": {},
   "outputs": [],
   "source": [
    "response[\"data\"][0]"
   ]
  },
  {
   "cell_type": "code",
   "execution_count": null,
   "metadata": {
    "scrolled": true
   },
   "outputs": [],
   "source": [
    "flatten_dict(response[\"data\"][0])"
   ]
  },
  {
   "cell_type": "markdown",
   "metadata": {},
   "source": [
    "<a id=get-dict-val></a>\n",
    "### `get_dict_val`\n",
    "\n",
    "This function returns a dictionary value at the end of a key path - provided as a `list`, like those returned by `get_dict_paths`. \n",
    "\n",
    "Here is what this function looks like in practice."
   ]
  },
  {
   "cell_type": "code",
   "execution_count": null,
   "metadata": {},
   "outputs": [],
   "source": [
    "# Create dictionary\n",
    "dictionary = {\n",
    "    \"a\" : 1,\n",
    "    \"b\" : {\n",
    "        \"c\" : 2,\n",
    "        \"d\" : 5\n",
    "    },\n",
    "    \"e\" : {\n",
    "        \"f\" : 4,\n",
    "        \"g\" : 3\n",
    "    },\n",
    "    \"h\" : 3\n",
    "}\n",
    "\n",
    "# Create key_list\n",
    "key_list = ['e', 'f']\n",
    "\n",
    "# Execute function\n",
    "get_dict_val(dictionary, key_list)"
   ]
  },
  {
   "cell_type": "markdown",
   "metadata": {},
   "source": [
    "#### 2. When the input `key_path` doesn't exist\n",
    "It is important to know that this function does not break should you be asking it to return a value at the end of a key path that doesn't exist. Instead, it will return `None`."
   ]
  },
  {
   "cell_type": "code",
   "execution_count": null,
   "metadata": {},
   "outputs": [],
   "source": [
    "# Create key_list\n",
    "key_list = ['b', 'k']\n",
    "\n",
    "# Execute function\n",
    "value = get_dict_val(dictionary, key_list)\n",
    "\n",
    "# Returns NoneType because the provided path doesn't exist\n",
    "type(value)\n"
   ]
  },
  {
   "cell_type": "markdown",
   "metadata": {},
   "source": [
    "<a id=get-dict-paths></a>\n",
    "### `get_dict_paths`\n",
    "This function returns a **generator** that iterates over all full key paths within `dictionary`. Because Twitter often returns only the data that is present for a specific data object (for example, certain fields/expansions (see [info](https://github.com/osome-iu/osometweet/wiki/Info:-Available-Fields-and-Expansions), [our methods](https://github.com/osome-iu/osometweet/wiki/Method:-Specifying-fields-and-expansions) for more details) will only be present within a data object if there is something to return for that field/expansion), this function can help you understand what your data object actually contains.\n",
    "\n",
    "Here is a simple example..."
   ]
  },
  {
   "cell_type": "code",
   "execution_count": null,
   "metadata": {},
   "outputs": [],
   "source": [
    "# Create dictionary\n",
    "dictionary = {\n",
    "    \"a\" : 1,\n",
    "    \"b\" : {\n",
    "        \"c\" : 2,\n",
    "        \"d\" : 5\n",
    "    },\n",
    "    \"e\" : {\n",
    "        \"f\" : 4,\n",
    "        \"g\" : 3\n",
    "    },\n",
    "    \"h\" : 3\n",
    "}\n",
    "\n",
    "# Call get_dict_paths\n",
    "print(list(get_dict_paths(dictionary)))"
   ]
  },
  {
   "cell_type": "markdown",
   "metadata": {},
   "source": [
    "### How to use `get_dict_paths` and `get_dict_val` together with Twitter data..."
   ]
  },
  {
   "cell_type": "code",
   "execution_count": null,
   "metadata": {},
   "outputs": [],
   "source": [
    "# Here is the user object from earlier...\n",
    "user_object = response[\"data\"][0]"
   ]
  },
  {
   "cell_type": "code",
   "execution_count": null,
   "metadata": {},
   "outputs": [],
   "source": [
    "# Get all of the paths in that dictionary \n",
    "tweet_dict_paths = list(get_dict_paths(user_object))\n",
    "tweet_dict_paths"
   ]
  },
  {
   "cell_type": "code",
   "execution_count": null,
   "metadata": {},
   "outputs": [],
   "source": [
    "# Extract only key paths that include public metrics data points\n",
    "pub_metric_paths = [path for path in tweet_dict_paths if \"public_metrics\" in path]\n",
    "pub_metric_paths"
   ]
  },
  {
   "cell_type": "code",
   "execution_count": null,
   "metadata": {},
   "outputs": [],
   "source": [
    "for path in pub_metric_paths:\n",
    "    print(\n",
    "        path[1],  # print the public metric name\n",
    "        get_dict_val(response[\"data\"][0], path)    # print the value at that path\n",
    "    )"
   ]
  },
  {
   "cell_type": "markdown",
   "metadata": {},
   "source": [
    "### Extracting error details\n",
    "\n",
    "It can be very useful to take advantage of the information returned in the `errors` object by Twitter. The below `user_lookup_usernames` method call tells us that the account `@realDonaldTrump` has been suspended."
   ]
  },
  {
   "cell_type": "code",
   "execution_count": null,
   "metadata": {
    "scrolled": false
   },
   "outputs": [],
   "source": [
    "ot.user_lookup_usernames(usernames=[\"realDonaldTrump\",\"mdeverna2\"], everything=True)"
   ]
  },
  {
   "cell_type": "code",
   "execution_count": null,
   "metadata": {},
   "outputs": [],
   "source": []
  }
 ],
 "metadata": {
  "kernelspec": {
   "display_name": "Python 3",
   "language": "python",
   "name": "python3"
  },
  "language_info": {
   "codemirror_mode": {
    "name": "ipython",
    "version": 3
   },
   "file_extension": ".py",
   "mimetype": "text/x-python",
   "name": "python",
   "nbconvert_exporter": "python",
   "pygments_lexer": "ipython3",
   "version": "3.7.6"
  }
 },
 "nbformat": 4,
 "nbformat_minor": 2
}
